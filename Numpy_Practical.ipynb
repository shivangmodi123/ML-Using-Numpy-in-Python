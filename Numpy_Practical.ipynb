{
  "nbformat": 4,
  "nbformat_minor": 0,
  "metadata": {
    "colab": {
      "name": "Numpy Practical.ipynb",
      "provenance": [],
      "collapsed_sections": [],
      "authorship_tag": "ABX9TyNCmD6/vokiNCA2tyaSkDfT"
    },
    "kernelspec": {
      "name": "python3",
      "display_name": "Python 3"
    }
  },
  "cells": [
    {
      "cell_type": "code",
      "metadata": {
        "colab": {
          "base_uri": "https://localhost:8080/"
        },
        "id": "GZsQje3c84r6",
        "outputId": "0b80e434-947a-40bf-cde9-b06cb8e16fcc"
      },
      "source": [
        "import numpy as np\n",
        "\n",
        "arr = np.array([1, 2, 3, 4, 5])\n",
        "print(arr)\n",
        "print(type(arr))"
      ],
      "execution_count": null,
      "outputs": [
        {
          "output_type": "stream",
          "text": [
            "[1 2 3 4 5]\n",
            "<class 'numpy.ndarray'>\n"
          ],
          "name": "stdout"
        }
      ]
    },
    {
      "cell_type": "code",
      "metadata": {
        "colab": {
          "base_uri": "https://localhost:8080/"
        },
        "id": "hrrFDvk99Dcm",
        "outputId": "8088a570-9e05-45ea-d1f7-b1f0349413e1"
      },
      "source": [
        "#Create a 0-D array with value 42\n",
        "arr = np.array(42)\n",
        "print(arr)"
      ],
      "execution_count": null,
      "outputs": [
        {
          "output_type": "stream",
          "text": [
            "42\n"
          ],
          "name": "stdout"
        }
      ]
    },
    {
      "cell_type": "code",
      "metadata": {
        "colab": {
          "base_uri": "https://localhost:8080/"
        },
        "id": "PRamLWSd-EX_",
        "outputId": "37c3af01-f756-452c-e164-cd80d405195b"
      },
      "source": [
        "#Create a 1-D array containing the values 1,2,3,4,5:\n",
        "arr = np.array([1, 2, 3, 4, 5])\n",
        "print(arr)"
      ],
      "execution_count": null,
      "outputs": [
        {
          "output_type": "stream",
          "text": [
            "[1 2 3 4 5]\n"
          ],
          "name": "stdout"
        }
      ]
    },
    {
      "cell_type": "code",
      "metadata": {
        "colab": {
          "base_uri": "https://localhost:8080/"
        },
        "id": "G-3ktRJk-EcH",
        "outputId": "6ed7f7d4-c757-4380-8371-6dbfea9624f4"
      },
      "source": [
        "#Create a 2-D array containing two arrays with the values 1,2,3 and 4,5,6:\n",
        "arr = np.array([[1, 2, 3], [4, 5, 6]])\n",
        "print(arr)"
      ],
      "execution_count": null,
      "outputs": [
        {
          "output_type": "stream",
          "text": [
            "[[1 2 3]\n",
            " [4 5 6]]\n"
          ],
          "name": "stdout"
        }
      ]
    },
    {
      "cell_type": "code",
      "metadata": {
        "colab": {
          "base_uri": "https://localhost:8080/"
        },
        "id": "KYon4o3n-Eeo",
        "outputId": "37b035b6-ed0b-4765-e173-0ac682f035df"
      },
      "source": [
        "arr = np.array([1, 2, 3, 4])\n",
        "print(arr[0])\n",
        "print(arr[1])\n",
        "print(arr[2])"
      ],
      "execution_count": null,
      "outputs": [
        {
          "output_type": "stream",
          "text": [
            "1\n",
            "2\n",
            "3\n"
          ],
          "name": "stdout"
        }
      ]
    },
    {
      "cell_type": "code",
      "metadata": {
        "colab": {
          "base_uri": "https://localhost:8080/"
        },
        "id": "llHPudgF-EkG",
        "outputId": "f6ef7b0d-3528-430f-8b57-fb1909687fb2"
      },
      "source": [
        "x = np.array([[1,2,3,4],[4,5,6,7],[1,2,3,4],[4,5,6,7]])\n",
        "print(x)"
      ],
      "execution_count": null,
      "outputs": [
        {
          "output_type": "stream",
          "text": [
            "[[1 2 3 4]\n",
            " [4 5 6 7]\n",
            " [1 2 3 4]\n",
            " [4 5 6 7]]\n"
          ],
          "name": "stdout"
        }
      ]
    },
    {
      "cell_type": "code",
      "metadata": {
        "colab": {
          "base_uri": "https://localhost:8080/"
        },
        "id": "C2irDjOr-EvV",
        "outputId": "6e62fd3d-4fd9-4e26-f5b3-92059a4c4e29"
      },
      "source": [
        "import numpy as np\n",
        "\n",
        "x = np.array([[1,2,3,4],[4,5,6,7],[1,2,3,4],[4,5,6,7]])\n",
        "print(x)\n",
        "\n",
        "print(x[:,[0,3]])"
      ],
      "execution_count": null,
      "outputs": [
        {
          "output_type": "stream",
          "text": [
            "[[1 2 3 4]\n",
            " [4 5 6 7]\n",
            " [1 2 3 4]\n",
            " [4 5 6 7]]\n",
            "[[1 4]\n",
            " [4 7]\n",
            " [1 4]\n",
            " [4 7]]\n"
          ],
          "name": "stdout"
        }
      ]
    },
    {
      "cell_type": "code",
      "metadata": {
        "colab": {
          "base_uri": "https://localhost:8080/"
        },
        "id": "6PmCmxLlG-sC",
        "outputId": "b783b1a3-3d22-44f0-8397-1e3ec6a4cd89"
      },
      "source": [
        "x = np.array([[1,2,3,4],[4,5,6,7],[1,2,3,4],[8,5,6,9]])\n",
        "print(x)\n",
        "\n",
        "print(x[-1:,0])\n",
        "print(x[3:,3])"
      ],
      "execution_count": null,
      "outputs": [
        {
          "output_type": "stream",
          "text": [
            "[[1 2 3 4]\n",
            " [4 5 6 7]\n",
            " [1 2 3 4]\n",
            " [8 5 6 9]]\n",
            "[8]\n",
            "[9]\n"
          ],
          "name": "stdout"
        }
      ]
    },
    {
      "cell_type": "code",
      "metadata": {
        "colab": {
          "base_uri": "https://localhost:8080/"
        },
        "id": "2xo1QpbTH71e",
        "outputId": "b16369f1-c8b8-4ea5-90b7-519df6447a79"
      },
      "source": [
        "x = np.array([[1,2,3,4],[4,5,6,7],[1,2,3,4],[8,5,6,9]])\n",
        "print(x)\n",
        "\n",
        "\n",
        "print(x[-4:,3])"
      ],
      "execution_count": null,
      "outputs": [
        {
          "output_type": "stream",
          "text": [
            "[[1 2 3 4]\n",
            " [4 5 6 7]\n",
            " [1 2 3 4]\n",
            " [8 5 6 9]]\n",
            "[4 7 4 9]\n"
          ],
          "name": "stdout"
        }
      ]
    }
  ]
}